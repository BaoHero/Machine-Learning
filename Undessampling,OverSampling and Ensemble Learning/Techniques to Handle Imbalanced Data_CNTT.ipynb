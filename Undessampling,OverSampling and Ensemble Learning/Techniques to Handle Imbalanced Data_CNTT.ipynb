{
 "cells": [
  {
   "cell_type": "markdown",
   "id": "99fa7dd3-e6e6-4870-b7a2-3729cc222c3a",
   "metadata": {
    "tags": []
   },
   "source": [
    "# Import Librarys"
   ]
  },
  {
   "cell_type": "code",
   "execution_count": 1,
   "id": "bf2e06a2-69d4-43b1-881c-ce142d25c093",
   "metadata": {
    "tags": []
   },
   "outputs": [],
   "source": [
    "import pandas as pd\n",
    "\n",
    "#numpy\n",
    "import numpy as np\n",
    "\n",
    "#matplotlib\n",
    "import matplotlib.pyplot as plt\n",
    "\n",
    "#seaborn\n",
    "import seaborn as sns\n",
    "from imblearn.over_sampling import SMOTE, RandomOverSampler\n",
    "from sklearn.metrics import confusion_matrix, ConfusionMatrixDisplay\n",
    "#sklearn\n",
    "from sklearn.metrics import precision_score, recall_score, roc_auc_score, balanced_accuracy_score\n",
    "import imblearn\n",
    "from imblearn.ensemble import BalancedBaggingClassifier\n",
    "from sklearn.linear_model import LogisticRegression\n",
    "from sklearn.svm import SVC\n",
    "from sklearn.metrics import classification_report,f1_score\n",
    "from sklearn.ensemble import RandomForestClassifier\n",
    "from sklearn.preprocessing import LabelEncoder\n",
    "from imblearn.over_sampling import SMOTE\n",
    "from sklearn.model_selection import train_test_split\n",
    "from sklearn.preprocessing import MinMaxScaler\n",
    "import pickle\n",
    "import warnings\n",
    "from sklearn.utils import class_weight\n",
    "from imblearn.under_sampling import RandomUnderSampler\n",
    "from mpl_toolkits.mplot3d import axes3d\n",
    "from imblearn.under_sampling import EditedNearestNeighbours\n",
    "warnings.filterwarnings('ignore')"
   ]
  },
  {
   "cell_type": "markdown",
   "id": "8f232811-f550-4507-8dab-47af9a48824c",
   "metadata": {},
   "source": [
    "# Import Data "
   ]
  },
  {
   "cell_type": "code",
   "execution_count": 2,
   "id": "040b7132-96bf-4674-9851-3364dfa234c2",
   "metadata": {
    "tags": []
   },
   "outputs": [
    {
     "data": {
      "text/html": [
       "<div>\n",
       "<style scoped>\n",
       "    .dataframe tbody tr th:only-of-type {\n",
       "        vertical-align: middle;\n",
       "    }\n",
       "\n",
       "    .dataframe tbody tr th {\n",
       "        vertical-align: top;\n",
       "    }\n",
       "\n",
       "    .dataframe thead th {\n",
       "        text-align: right;\n",
       "    }\n",
       "</style>\n",
       "<table border=\"1\" class=\"dataframe\">\n",
       "  <thead>\n",
       "    <tr style=\"text-align: right;\">\n",
       "      <th></th>\n",
       "      <th>age</th>\n",
       "      <th>sex</th>\n",
       "      <th>on thyroxine</th>\n",
       "      <th>query on thyroxine</th>\n",
       "      <th>on antithyroid medication</th>\n",
       "      <th>sick</th>\n",
       "      <th>pregnant</th>\n",
       "      <th>thyroid surgery</th>\n",
       "      <th>I131 treatment</th>\n",
       "      <th>query hypothyroid</th>\n",
       "      <th>...</th>\n",
       "      <th>TT4 measured</th>\n",
       "      <th>TT4</th>\n",
       "      <th>T4U measured</th>\n",
       "      <th>T4U</th>\n",
       "      <th>FTI measured</th>\n",
       "      <th>FTI</th>\n",
       "      <th>TBG measured</th>\n",
       "      <th>TBG</th>\n",
       "      <th>referral source</th>\n",
       "      <th>binaryClass</th>\n",
       "    </tr>\n",
       "  </thead>\n",
       "  <tbody>\n",
       "    <tr>\n",
       "      <th>0</th>\n",
       "      <td>41</td>\n",
       "      <td>F</td>\n",
       "      <td>f</td>\n",
       "      <td>f</td>\n",
       "      <td>f</td>\n",
       "      <td>f</td>\n",
       "      <td>f</td>\n",
       "      <td>f</td>\n",
       "      <td>f</td>\n",
       "      <td>f</td>\n",
       "      <td>...</td>\n",
       "      <td>t</td>\n",
       "      <td>125</td>\n",
       "      <td>t</td>\n",
       "      <td>1.14</td>\n",
       "      <td>t</td>\n",
       "      <td>109</td>\n",
       "      <td>f</td>\n",
       "      <td>?</td>\n",
       "      <td>SVHC</td>\n",
       "      <td>P</td>\n",
       "    </tr>\n",
       "    <tr>\n",
       "      <th>1</th>\n",
       "      <td>23</td>\n",
       "      <td>F</td>\n",
       "      <td>f</td>\n",
       "      <td>f</td>\n",
       "      <td>f</td>\n",
       "      <td>f</td>\n",
       "      <td>f</td>\n",
       "      <td>f</td>\n",
       "      <td>f</td>\n",
       "      <td>f</td>\n",
       "      <td>...</td>\n",
       "      <td>t</td>\n",
       "      <td>102</td>\n",
       "      <td>f</td>\n",
       "      <td>?</td>\n",
       "      <td>f</td>\n",
       "      <td>?</td>\n",
       "      <td>f</td>\n",
       "      <td>?</td>\n",
       "      <td>other</td>\n",
       "      <td>P</td>\n",
       "    </tr>\n",
       "    <tr>\n",
       "      <th>2</th>\n",
       "      <td>46</td>\n",
       "      <td>M</td>\n",
       "      <td>f</td>\n",
       "      <td>f</td>\n",
       "      <td>f</td>\n",
       "      <td>f</td>\n",
       "      <td>f</td>\n",
       "      <td>f</td>\n",
       "      <td>f</td>\n",
       "      <td>f</td>\n",
       "      <td>...</td>\n",
       "      <td>t</td>\n",
       "      <td>109</td>\n",
       "      <td>t</td>\n",
       "      <td>0.91</td>\n",
       "      <td>t</td>\n",
       "      <td>120</td>\n",
       "      <td>f</td>\n",
       "      <td>?</td>\n",
       "      <td>other</td>\n",
       "      <td>P</td>\n",
       "    </tr>\n",
       "    <tr>\n",
       "      <th>3</th>\n",
       "      <td>70</td>\n",
       "      <td>F</td>\n",
       "      <td>t</td>\n",
       "      <td>f</td>\n",
       "      <td>f</td>\n",
       "      <td>f</td>\n",
       "      <td>f</td>\n",
       "      <td>f</td>\n",
       "      <td>f</td>\n",
       "      <td>f</td>\n",
       "      <td>...</td>\n",
       "      <td>t</td>\n",
       "      <td>175</td>\n",
       "      <td>f</td>\n",
       "      <td>?</td>\n",
       "      <td>f</td>\n",
       "      <td>?</td>\n",
       "      <td>f</td>\n",
       "      <td>?</td>\n",
       "      <td>other</td>\n",
       "      <td>P</td>\n",
       "    </tr>\n",
       "    <tr>\n",
       "      <th>4</th>\n",
       "      <td>70</td>\n",
       "      <td>F</td>\n",
       "      <td>f</td>\n",
       "      <td>f</td>\n",
       "      <td>f</td>\n",
       "      <td>f</td>\n",
       "      <td>f</td>\n",
       "      <td>f</td>\n",
       "      <td>f</td>\n",
       "      <td>f</td>\n",
       "      <td>...</td>\n",
       "      <td>t</td>\n",
       "      <td>61</td>\n",
       "      <td>t</td>\n",
       "      <td>0.87</td>\n",
       "      <td>t</td>\n",
       "      <td>70</td>\n",
       "      <td>f</td>\n",
       "      <td>?</td>\n",
       "      <td>SVI</td>\n",
       "      <td>P</td>\n",
       "    </tr>\n",
       "  </tbody>\n",
       "</table>\n",
       "<p>5 rows × 30 columns</p>\n",
       "</div>"
      ],
      "text/plain": [
       "  age sex on thyroxine query on thyroxine on antithyroid medication sick  \\\n",
       "0  41   F            f                  f                         f    f   \n",
       "1  23   F            f                  f                         f    f   \n",
       "2  46   M            f                  f                         f    f   \n",
       "3  70   F            t                  f                         f    f   \n",
       "4  70   F            f                  f                         f    f   \n",
       "\n",
       "  pregnant thyroid surgery I131 treatment query hypothyroid  ... TT4 measured  \\\n",
       "0        f               f              f                 f  ...            t   \n",
       "1        f               f              f                 f  ...            t   \n",
       "2        f               f              f                 f  ...            t   \n",
       "3        f               f              f                 f  ...            t   \n",
       "4        f               f              f                 f  ...            t   \n",
       "\n",
       "   TT4 T4U measured   T4U FTI measured  FTI TBG measured TBG referral source  \\\n",
       "0  125            t  1.14            t  109            f   ?            SVHC   \n",
       "1  102            f     ?            f    ?            f   ?           other   \n",
       "2  109            t  0.91            t  120            f   ?           other   \n",
       "3  175            f     ?            f    ?            f   ?           other   \n",
       "4   61            t  0.87            t   70            f   ?             SVI   \n",
       "\n",
       "  binaryClass  \n",
       "0           P  \n",
       "1           P  \n",
       "2           P  \n",
       "3           P  \n",
       "4           P  \n",
       "\n",
       "[5 rows x 30 columns]"
      ]
     },
     "execution_count": 2,
     "metadata": {},
     "output_type": "execute_result"
    }
   ],
   "source": [
    "data = pd.read_csv('./hypothyroid.csv')\n",
    "data.head()"
   ]
  },
  {
   "cell_type": "markdown",
   "id": "66f642ce-878e-47a4-a162-7347440fa57b",
   "metadata": {},
   "source": [
    "# Data Cleaning"
   ]
  },
  {
   "cell_type": "code",
   "execution_count": 3,
   "id": "935efeec-8d14-450b-8867-71401f2d5446",
   "metadata": {
    "tags": []
   },
   "outputs": [
    {
     "name": "stdout",
     "output_type": "stream",
     "text": [
      "<class 'pandas.core.frame.DataFrame'>\n",
      "RangeIndex: 3772 entries, 0 to 3771\n",
      "Data columns (total 30 columns):\n",
      " #   Column                     Non-Null Count  Dtype \n",
      "---  ------                     --------------  ----- \n",
      " 0   age                        3772 non-null   object\n",
      " 1   sex                        3772 non-null   object\n",
      " 2   on thyroxine               3772 non-null   object\n",
      " 3   query on thyroxine         3772 non-null   object\n",
      " 4   on antithyroid medication  3772 non-null   object\n",
      " 5   sick                       3772 non-null   object\n",
      " 6   pregnant                   3772 non-null   object\n",
      " 7   thyroid surgery            3772 non-null   object\n",
      " 8   I131 treatment             3772 non-null   object\n",
      " 9   query hypothyroid          3772 non-null   object\n",
      " 10  query hyperthyroid         3772 non-null   object\n",
      " 11  lithium                    3772 non-null   object\n",
      " 12  goitre                     3772 non-null   object\n",
      " 13  tumor                      3772 non-null   object\n",
      " 14  hypopituitary              3772 non-null   object\n",
      " 15  psych                      3772 non-null   object\n",
      " 16  TSH measured               3772 non-null   object\n",
      " 17  TSH                        3772 non-null   object\n",
      " 18  T3 measured                3772 non-null   object\n",
      " 19  T3                         3772 non-null   object\n",
      " 20  TT4 measured               3772 non-null   object\n",
      " 21  TT4                        3772 non-null   object\n",
      " 22  T4U measured               3772 non-null   object\n",
      " 23  T4U                        3772 non-null   object\n",
      " 24  FTI measured               3772 non-null   object\n",
      " 25  FTI                        3772 non-null   object\n",
      " 26  TBG measured               3772 non-null   object\n",
      " 27  TBG                        3772 non-null   object\n",
      " 28  referral source            3772 non-null   object\n",
      " 29  binaryClass                3772 non-null   object\n",
      "dtypes: object(30)\n",
      "memory usage: 884.2+ KB\n"
     ]
    }
   ],
   "source": [
    "data.info()"
   ]
  },
  {
   "cell_type": "code",
   "execution_count": 4,
   "id": "74e7be04-b014-4748-8272-551eb56dcae5",
   "metadata": {
    "tags": []
   },
   "outputs": [],
   "source": [
    "data.drop(['T3 measured','TSH measured','TT4 measured','T4U measured','FTI measured','TBG measured','TBG','referral source','on thyroxine','query on thyroxine','on antithyroid medication','query hypothyroid', 'query hyperthyroid','hypopituitary', 'psych'],axis=1,inplace=True)"
   ]
  },
  {
   "cell_type": "code",
   "execution_count": 5,
   "id": "18fcffaa-97e1-4518-8d37-89a317f049bc",
   "metadata": {
    "tags": []
   },
   "outputs": [],
   "source": [
    "data.rename(columns={'binaryClass':'Label'},inplace=True)"
   ]
  },
  {
   "cell_type": "code",
   "execution_count": 6,
   "id": "a4713ff1-1a09-459a-bd54-abca29f502de",
   "metadata": {
    "tags": []
   },
   "outputs": [
    {
     "name": "stdout",
     "output_type": "stream",
     "text": [
      "<class 'pandas.core.frame.DataFrame'>\n",
      "RangeIndex: 3772 entries, 0 to 3771\n",
      "Data columns (total 15 columns):\n",
      " #   Column           Non-Null Count  Dtype \n",
      "---  ------           --------------  ----- \n",
      " 0   age              3772 non-null   object\n",
      " 1   sex              3772 non-null   object\n",
      " 2   sick             3772 non-null   object\n",
      " 3   pregnant         3772 non-null   object\n",
      " 4   thyroid surgery  3772 non-null   object\n",
      " 5   I131 treatment   3772 non-null   object\n",
      " 6   lithium          3772 non-null   object\n",
      " 7   goitre           3772 non-null   object\n",
      " 8   tumor            3772 non-null   object\n",
      " 9   TSH              3772 non-null   object\n",
      " 10  T3               3772 non-null   object\n",
      " 11  TT4              3772 non-null   object\n",
      " 12  T4U              3772 non-null   object\n",
      " 13  FTI              3772 non-null   object\n",
      " 14  Label            3772 non-null   object\n",
      "dtypes: object(15)\n",
      "memory usage: 442.2+ KB\n"
     ]
    }
   ],
   "source": [
    "data.info()"
   ]
  },
  {
   "cell_type": "code",
   "execution_count": 7,
   "id": "0dc6f4b5-1b9e-4401-b65d-acd6d2833467",
   "metadata": {
    "tags": []
   },
   "outputs": [],
   "source": [
    "data.replace('?',np.nan,inplace=True)"
   ]
  },
  {
   "cell_type": "code",
   "execution_count": 8,
   "id": "78e2acd2-9a27-428e-ad2c-2634bb7633cc",
   "metadata": {
    "tags": []
   },
   "outputs": [
    {
     "name": "stdout",
     "output_type": "stream",
     "text": [
      "<class 'pandas.core.frame.DataFrame'>\n",
      "RangeIndex: 3772 entries, 0 to 3771\n",
      "Data columns (total 15 columns):\n",
      " #   Column           Non-Null Count  Dtype \n",
      "---  ------           --------------  ----- \n",
      " 0   age              3771 non-null   object\n",
      " 1   sex              3622 non-null   object\n",
      " 2   sick             3772 non-null   object\n",
      " 3   pregnant         3772 non-null   object\n",
      " 4   thyroid surgery  3772 non-null   object\n",
      " 5   I131 treatment   3772 non-null   object\n",
      " 6   lithium          3772 non-null   object\n",
      " 7   goitre           3772 non-null   object\n",
      " 8   tumor            3772 non-null   object\n",
      " 9   TSH              3403 non-null   object\n",
      " 10  T3               3003 non-null   object\n",
      " 11  TT4              3541 non-null   object\n",
      " 12  T4U              3385 non-null   object\n",
      " 13  FTI              3387 non-null   object\n",
      " 14  Label            3772 non-null   object\n",
      "dtypes: object(15)\n",
      "memory usage: 442.2+ KB\n"
     ]
    }
   ],
   "source": [
    "data.info()"
   ]
  },
  {
   "cell_type": "code",
   "execution_count": 9,
   "id": "311d9fdc-8c2e-46f0-968e-b26893d283c7",
   "metadata": {
    "tags": []
   },
   "outputs": [
    {
     "data": {
      "text/plain": [
       "age                  1\n",
       "sex                150\n",
       "sick                 0\n",
       "pregnant             0\n",
       "thyroid surgery      0\n",
       "I131 treatment       0\n",
       "lithium              0\n",
       "goitre               0\n",
       "tumor                0\n",
       "TSH                369\n",
       "T3                 769\n",
       "TT4                231\n",
       "T4U                387\n",
       "FTI                385\n",
       "Label                0\n",
       "dtype: int64"
      ]
     },
     "execution_count": 9,
     "metadata": {},
     "output_type": "execute_result"
    }
   ],
   "source": [
    "data.isnull().sum()"
   ]
  },
  {
   "cell_type": "code",
   "execution_count": 10,
   "id": "548dcda4-71d8-4020-bfea-81302b2c38b8",
   "metadata": {
    "tags": []
   },
   "outputs": [],
   "source": [
    "data.dropna(inplace=True)"
   ]
  },
  {
   "cell_type": "code",
   "execution_count": 11,
   "id": "59773bfc-a18a-46d3-8d36-8512ec37a576",
   "metadata": {
    "tags": []
   },
   "outputs": [
    {
     "data": {
      "text/plain": [
       "age                0\n",
       "sex                0\n",
       "sick               0\n",
       "pregnant           0\n",
       "thyroid surgery    0\n",
       "I131 treatment     0\n",
       "lithium            0\n",
       "goitre             0\n",
       "tumor              0\n",
       "TSH                0\n",
       "T3                 0\n",
       "TT4                0\n",
       "T4U                0\n",
       "FTI                0\n",
       "Label              0\n",
       "dtype: int64"
      ]
     },
     "execution_count": 11,
     "metadata": {},
     "output_type": "execute_result"
    }
   ],
   "source": [
    "data.isnull().sum()"
   ]
  },
  {
   "cell_type": "code",
   "execution_count": 12,
   "id": "712c343a-4a60-4f51-9bee-be28236cfc31",
   "metadata": {
    "tags": []
   },
   "outputs": [
    {
     "data": {
      "text/plain": [
       "False    2642\n",
       "True        1\n",
       "Name: count, dtype: int64"
      ]
     },
     "execution_count": 12,
     "metadata": {},
     "output_type": "execute_result"
    }
   ],
   "source": [
    "data.duplicated().value_counts()"
   ]
  },
  {
   "cell_type": "code",
   "execution_count": 13,
   "id": "599a59be-dda3-4a71-b2f5-4ced2fb9d613",
   "metadata": {
    "tags": []
   },
   "outputs": [],
   "source": [
    "data.drop_duplicates(inplace=True)"
   ]
  },
  {
   "cell_type": "code",
   "execution_count": 14,
   "id": "0ddedca6-f457-4291-b90d-81c258604e20",
   "metadata": {
    "tags": []
   },
   "outputs": [
    {
     "data": {
      "text/plain": [
       "False    2642\n",
       "Name: count, dtype: int64"
      ]
     },
     "execution_count": 14,
     "metadata": {},
     "output_type": "execute_result"
    }
   ],
   "source": [
    "data.duplicated().value_counts()"
   ]
  },
  {
   "cell_type": "markdown",
   "id": "b112c7ac-c9b0-4fc2-a375-6d5b72c03c39",
   "metadata": {},
   "source": [
    "# Visualization Data"
   ]
  },
  {
   "cell_type": "code",
   "execution_count": 15,
   "id": "953e4e1c-ea90-4057-bb97-b25938efe7fb",
   "metadata": {
    "tags": []
   },
   "outputs": [
    {
     "data": {
      "image/png": "[encoded data removed]",
      "text/plain": [
       "<Figure size 600x600 with 1 Axes>"
      ]
     },
     "metadata": {},
     "output_type": "display_data"
    }
   ],
   "source": [
    "plt.rcParams[\"figure.figsize\"]=(6,6)\n",
    "\n",
    "unique_elements , counts_elements = np.unique(data.Label,return_counts=True)\n",
    "fig1,ax1 = plt.subplots()\n",
    "ax1.pie(counts_elements,labels=unique_elements,autopct = '%1.1f%%',\n",
    "        shadow=True, startangle = 90, textprops={'fontsize':18})\n",
    "plt.show()"
   ]
  },
  {
   "cell_type": "code",
   "execution_count": 16,
   "id": "f988cc57-61b0-44fa-b319-c2f12db40d68",
   "metadata": {
    "tags": []
   },
   "outputs": [],
   "source": [
    "data_copy = data.copy()"
   ]
  },
  {
   "cell_type": "code",
   "execution_count": 17,
   "id": "3951b9fa-5d6e-496c-9459-75ef09e585df",
   "metadata": {},
   "outputs": [],
   "source": [
    "value_map = {'N': 1, 'P': 0}\n",
    "data_copy['Label'] = data_copy['Label'].replace(value_map)\n"
   ]
  },
  {
   "cell_type": "code",
   "execution_count": 18,
   "id": "09fc6509-2922-411f-83e0-2064981c2023",
   "metadata": {
    "tags": []
   },
   "outputs": [
    {
     "data": {
      "image/png": "[encoded data removed]",
      "text/plain": [
       "<Figure size 600x600 with 1 Axes>"
      ]
     },
     "metadata": {},
     "output_type": "display_data"
    }
   ],
   "source": [
    "plt.rcParams[\"figure.figsize\"]=(6,6)\n",
    "\n",
    "unique_elements , counts_elements = np.unique(data_copy.Label,return_counts=True)\n",
    "fig1,ax1 = plt.subplots()\n",
    "ax1.pie(counts_elements,labels=unique_elements,autopct = '%1.1f%%',\n",
    "        shadow=True, startangle = 90, textprops={'fontsize':18})\n",
    "plt.show()"
   ]
  },
  {
   "cell_type": "markdown",
   "id": "4db598c5-126f-4099-8293-9558b3844c4d",
   "metadata": {},
   "source": [
    "# Data Preprocessing"
   ]
  },
  {
   "cell_type": "code",
   "execution_count": 19,
   "id": "1d428e59-21b8-4859-8cbb-c056aedda5e8",
   "metadata": {
    "tags": []
   },
   "outputs": [],
   "source": [
    "X = data_copy.drop('Label',axis=1)\n",
    "y = data_copy.Label"
   ]
  },
  {
   "cell_type": "code",
   "execution_count": 20,
   "id": "f9a82870-f347-44f1-adaa-0f738c532769",
   "metadata": {
    "tags": []
   },
   "outputs": [],
   "source": [
    "s_encoder = LabelEncoder()\n",
    "si_encoder = LabelEncoder()\n",
    "preg_encoder = LabelEncoder()\n",
    "th_encoder = LabelEncoder()\n",
    "treat_encoder = LabelEncoder()\n",
    "lith_encoder = LabelEncoder()\n",
    "g_encoder= LabelEncoder()\n",
    "tu_encoder = LabelEncoder()"
   ]
  },
  {
   "cell_type": "code",
   "execution_count": 21,
   "id": "9ac76bd5-d514-42da-9512-488a80692d69",
   "metadata": {
    "tags": []
   },
   "outputs": [],
   "source": [
    "X['sex'] = s_encoder.fit_transform(X.sex)\n",
    "X['I131 treatment'] = treat_encoder.fit_transform(X['I131 treatment'])\n",
    "X['sick'] = si_encoder.fit_transform(X.sick)\n",
    "X['pregnant'] = preg_encoder.fit_transform(X.pregnant)\n",
    "X['thyroid surgery'] = th_encoder.fit_transform(X['thyroid surgery'])\n",
    "X['lithium'] = lith_encoder.fit_transform(X['lithium'])\n",
    "X['goitre'] = g_encoder.fit_transform(X['goitre'])\n",
    "X['tumor'] = tu_encoder.fit_transform(X['tumor'])"
   ]
  },
  {
   "cell_type": "code",
   "execution_count": 22,
   "id": "7f69ae28-2467-4fba-884f-f6dcfcdc1b91",
   "metadata": {
    "tags": []
   },
   "outputs": [],
   "source": [
    "X_train, X_test, y_train, y_test = train_test_split(X,y,test_size=0.3, random_state=42,stratify=y)"
   ]
  },
  {
   "cell_type": "code",
   "execution_count": 23,
   "id": "419f442c-9d5b-4102-8a1b-65e578c0e698",
   "metadata": {},
   "outputs": [],
   "source": [
    "# scalr = MinMaxScaler()\n",
    "# X_train.TT4 = scalr.fit_transform(X_train[['TT4']])\n",
    "# X_train.age = scalr.fit_transform(X_train[['age']])\n",
    "# X_train.FTI = scalr.fit_transform(X_train[['FTI']])\n",
    "\n",
    "# scalr.fit(X_train[['TT4']])\n",
    "\n",
    "# X_test.TT4 = scalr.transform(X_test[['TT4']])\n",
    "# X_test.age = scalr.transform(X_test[['age']])\n",
    "# X_test.FTI = scalr.transform(X_test[['FTI']])"
   ]
  },
  {
   "cell_type": "code",
   "execution_count": 24,
   "id": "1bb0ead1-74e0-4010-b2da-153c65fa6128",
   "metadata": {
    "tags": []
   },
   "outputs": [],
   "source": [
    "# X_test.TT4 = scalr.fit_transform(X_test[['TT4']])\n",
    "# X_test.age = scalr.fit_transform(X_test[['age']])\n",
    "# X_test.FTI = scalr.fit_transform(X_test[['FTI']])"
   ]
  },
  {
   "cell_type": "markdown",
   "id": "b3390d09-8ed6-4c5c-bff1-047ff4afc4c3",
   "metadata": {
    "tags": []
   },
   "source": [
    "# Build Models"
   ]
  },
  {
   "cell_type": "code",
   "execution_count": 25,
   "id": "54bd5b89-1adc-4540-aef6-6bbeaf864ba1",
   "metadata": {
    "tags": []
   },
   "outputs": [],
   "source": [
    "import pandas as pd\n",
    "import matplotlib\n",
    "\n",
    "models = {\n",
    "    'Logistic Regression': LogisticRegression(),\n",
    "    'SVC': SVC()\n",
    "}\n",
    "result_lg = []\n",
    "result_svm = []\n",
    "def support(cv_results):\n",
    "    precision_score = cv_results['test_precision'].mean() \n",
    "    recall_score =  cv_results['test_recall'].mean()\n",
    "    auc_score = cv_results['test_roc_auc'].mean()\n",
    "    balanced_accuracy = cv_results['test_balanced_accuracy'].mean()\n",
    "    return precision_score, recall_score, auc_score, balanced_accuracy\n",
    "def score(y,y_pre):\n",
    "    precision = precision_score(y, y_pre)\n",
    "    recall = recall_score(y, y_pre)\n",
    "    auc = roc_auc_score(y, y_pre)\n",
    "    balanced_accuracy = balanced_accuracy_score(y, y_pre)\n",
    "    return precision, recall, auc, balanced_accuracy\n",
    "\n",
    "def createDataFrame(data):\n",
    "\n",
    "    # Create the DataFrame\n",
    "    df = pd.DataFrame(data)\n",
    "\n",
    "    df.style.set_properties(\n",
    "        **{\n",
    "            'index.align': 'center',\n",
    "            'index.vertical_align': 'middle',\n",
    "            'columns.align': 'center',\n",
    "            'columns.vertical_align': 'middle',\n",
    "            'format.precision': 3,  # Set precision for floating-point numbers to 3 decimals\n",
    "            'text.color': 'black',  # Set text color to black\n",
    "            'background.color': 'white',  # Set background color to white\n",
    "            'border.color': 'lightgray',  # Set border color to light gray\n",
    "            'grid.color': 'none',  # Remove grid lines\n",
    "        }\n",
    "    )\n",
    "    return df\n",
    "\n",
    "def plot_confusionMatrix(y,y_pred,labels):\n",
    "    cm = confusion_matrix(y,y_pred, labels=labels)\n",
    "    disp2 = ConfusionMatrixDisplay(confusion_matrix=cm,\n",
    "                                 display_labels=labels)\n",
    "    return disp2\n",
    "\n",
    "\n",
    "\n",
    "    \n",
    "def plot_evalution(model,name,X_tr,y_tr,X_te,y_te):\n",
    "    model_lg = model['estimator'][-1]\n",
    "    y_pred = model_lg.predict(X_te)\n",
    "\n",
    "    precision_score2_test,recall_score2_test,auc_score2_test, balanced_accuracy2_test = score(y_te,y_pred)\n",
    "    \n",
    "    precision_score2, recall_score2, auc_score2, balanced_accuracy2 = support(model)\n",
    "\n",
    "    measure_train = {\n",
    "        'Name':[name],\n",
    "        'precision':[precision_score2],\n",
    "        'recall': [recall_score2],\n",
    "        'AUC_ROC':[auc_score2],\n",
    "        # 'Balanced Accuracy': [balanced_accuracy_lg,balanced_accuracy2]\n",
    "    }\n",
    "    measure_test = {\n",
    "        'Name':  [name],\n",
    "    'precision':[precision_score2_test],\n",
    "        'recall': [recall_score2_test],\n",
    "        'AUC_ROC':[auc_score2_test],\n",
    "        # 'Balanced Accuracy': [balanced_accuracy_lg_test,balanced_accuracy2_test]\n",
    "    }\n",
    "\n",
    "    # Create the DataFrame\n",
    "    df_train = createDataFrame(measure_train)\n",
    "    df_test = createDataFrame(measure_test)\n",
    "    confusionMatrix = plot_confusionMatrix(y_te,y_pred,np.unique(y_te))\n",
    "    \n",
    "    \n",
    "\n",
    "\n",
    "    return df_test,confusionMatrix\n",
    "\n",
    "def visualizeConfusionMatrix(con,title):\n",
    "    con.plot()\n",
    "    plt.title(title)\n",
    "    plt.show()\n",
    "    \n",
    "def plot_many_image(arr,name):\n",
    "    size =len(arr)\n",
    "    if(size>2):\n",
    "        f, axes = plt.subplots(2,2,figsize=(20,10))\n",
    "        index=0\n",
    "        for i in range(2):\n",
    "            for j in range(2):\n",
    "                arr[index].plot(ax=axes[i][j])\n",
    "                axes[i][j].set_title(name[index],size = 13)\n",
    "                index+=1\n",
    "        plt.subplots_adjust(hspace=0.5,wspace=0.01)\n",
    "        plt.show()\n",
    "                \n",
    "    else:\n",
    "        f, axes = plt.subplots(1,2,figsize=(15,8))\n",
    "        for i in range(len(arr)):\n",
    "                arr[i].plot(ax=axes[i])\n",
    "                axes[i].set_title(name[i],size = 13)\n",
    "        plt.show()\n",
    "   \n",
    "\n",
    "def trainModel(model,model_name,X_train,y_train,X_test,y_test):\n",
    "    results = cross_validate(model, X_train, y_train, cv=5, scoring=scoring, return_estimator=True)\n",
    "    a,confusionMatrix = plot_evalution(results,model_name,X_train,y_train,X_test,y_test)\n",
    "    # visualizeConfusionMatrix(confusionMatrix,model_name)\n",
    "    if \"Logistic Regression\" in model_name:\n",
    "        result_lg.append(a)\n",
    "    else:\n",
    "        result_svm.append(a)    \n",
    "    return a,confusionMatrix"
   ]
  },
  {
   "cell_type": "markdown",
   "id": "791faa97-b22c-4c45-a467-56bdf8f827b2",
   "metadata": {},
   "source": [
    "## Initial results with imbalanced data "
   ]
  },
  {
   "cell_type": "code",
   "execution_count": 26,
   "id": "00172233-b1d2-4522-8648-90bc55858a37",
   "metadata": {
    "tags": []
   },
   "outputs": [
    {
     "data": {
      "image/png": "[encoded data removed]",
      "text/plain": [
       "<Figure size 1500x800 with 4 Axes>"
      ]
     },
     "metadata": {},
     "output_type": "display_data"
    },
    {
     "data": {
      "text/html": [
       "<div>\n",
       "<style scoped>\n",
       "    .dataframe tbody tr th:only-of-type {\n",
       "        vertical-align: middle;\n",
       "    }\n",
       "\n",
       "    .dataframe tbody tr th {\n",
       "        vertical-align: top;\n",
       "    }\n",
       "\n",
       "    .dataframe thead th {\n",
       "        text-align: right;\n",
       "    }\n",
       "</style>\n",
       "<table border=\"1\" class=\"dataframe\">\n",
       "  <thead>\n",
       "    <tr style=\"text-align: right;\">\n",
       "      <th></th>\n",
       "      <th>precision</th>\n",
       "      <th>recall</th>\n",
       "      <th>AUC_ROC</th>\n",
       "    </tr>\n",
       "    <tr>\n",
       "      <th>Name</th>\n",
       "      <th></th>\n",
       "      <th></th>\n",
       "      <th></th>\n",
       "    </tr>\n",
       "  </thead>\n",
       "  <tbody>\n",
       "    <tr>\n",
       "      <th>Logistic Regression imbalanced</th>\n",
       "      <td>0.960000</td>\n",
       "      <td>0.369231</td>\n",
       "      <td>0.683929</td>\n",
       "    </tr>\n",
       "    <tr>\n",
       "      <th>SVC imbalanced</th>\n",
       "      <td>0.933333</td>\n",
       "      <td>0.215385</td>\n",
       "      <td>0.607005</td>\n",
       "    </tr>\n",
       "  </tbody>\n",
       "</table>\n",
       "</div>"
      ],
      "text/plain": [
       "                                precision    recall   AUC_ROC\n",
       "Name                                                         \n",
       "Logistic Regression imbalanced   0.960000  0.369231  0.683929\n",
       "SVC imbalanced                   0.933333  0.215385  0.607005"
      ]
     },
     "execution_count": 26,
     "metadata": {},
     "output_type": "execute_result"
    }
   ],
   "source": [
    "from sklearn.linear_model import LogisticRegression\n",
    "from sklearn.model_selection import cross_validate\n",
    "from sklearn.svm import SVC\n",
    "\n",
    "scoring = ['precision','recall','roc_auc', 'average_precision', 'balanced_accuracy']\n",
    "# logisticClassifier_2 =LogisticRegression()\n",
    "result_init = []\n",
    "\n",
    "confusionMatrixArr = []\n",
    "name = []\n",
    "for model_name, model in models.items():\n",
    "    result,confusionMatrix = trainModel(model,model_name +\" imbalanced\",X_train,y_train,X_test,y_test)\n",
    "    result_init.append(result)\n",
    "    confusionMatrixArr.append(confusionMatrix)\n",
    "    name.append(model_name +\" imbalanced\")\n",
    "\n",
    "\n",
    "plot_many_image(confusionMatrixArr,name)\n",
    "measure_test = pd.concat(result_init, ignore_index=True)\n",
    "measure_test.set_index('Name', inplace=True)\n",
    "measure_test"
   ]
  },
  {
   "cell_type": "markdown",
   "id": "a25e8e41-851a-4b1d-babe-8eec73e0e389",
   "metadata": {},
   "source": [
    "## UnderSamping & OverSampling"
   ]
  },
  {
   "cell_type": "markdown",
   "id": "ff849ebb-8820-4ca0-9451-d551eddbca48",
   "metadata": {},
   "source": [
    "### UnderSampling"
   ]
  },
  {
   "cell_type": "code",
   "execution_count": 27,
   "id": "5e6eedb1-fc23-4b92-8d4b-0d341f3eb4c6",
   "metadata": {
    "tags": []
   },
   "outputs": [
    {
     "data": {
      "text/html": [
       "<div>\n",
       "<style scoped>\n",
       "    .dataframe tbody tr th:only-of-type {\n",
       "        vertical-align: middle;\n",
       "    }\n",
       "\n",
       "    .dataframe tbody tr th {\n",
       "        vertical-align: top;\n",
       "    }\n",
       "\n",
       "    .dataframe thead th {\n",
       "        text-align: right;\n",
       "    }\n",
       "</style>\n",
       "<table border=\"1\" class=\"dataframe\">\n",
       "  <thead>\n",
       "    <tr style=\"text-align: right;\">\n",
       "      <th></th>\n",
       "      <th>precision</th>\n",
       "      <th>recall</th>\n",
       "      <th>AUC_ROC</th>\n",
       "    </tr>\n",
       "    <tr>\n",
       "      <th>Name</th>\n",
       "      <th></th>\n",
       "      <th></th>\n",
       "      <th></th>\n",
       "    </tr>\n",
       "  </thead>\n",
       "  <tbody>\n",
       "    <tr>\n",
       "      <th>Random UnderSampler &amp; Logistic Regression</th>\n",
       "      <td>0.771084</td>\n",
       "      <td>0.984615</td>\n",
       "      <td>0.979258</td>\n",
       "    </tr>\n",
       "    <tr>\n",
       "      <th>Random UnderSampler &amp; SVC</th>\n",
       "      <td>0.506849</td>\n",
       "      <td>0.569231</td>\n",
       "      <td>0.759890</td>\n",
       "    </tr>\n",
       "    <tr>\n",
       "      <th>EditedNearestNeighbours_10 &amp; Logistic Regression</th>\n",
       "      <td>0.812500</td>\n",
       "      <td>0.800000</td>\n",
       "      <td>0.891758</td>\n",
       "    </tr>\n",
       "    <tr>\n",
       "      <th>EditedNearestNeighbours_10 &amp; SVC</th>\n",
       "      <td>0.944444</td>\n",
       "      <td>0.261538</td>\n",
       "      <td>0.630082</td>\n",
       "    </tr>\n",
       "    <tr>\n",
       "      <th>EditedNearestNeighbours_40 &amp; Logistic Regression</th>\n",
       "      <td>0.559633</td>\n",
       "      <td>0.938462</td>\n",
       "      <td>0.936264</td>\n",
       "    </tr>\n",
       "    <tr>\n",
       "      <th>EditedNearestNeighbours_40 &amp; SVC</th>\n",
       "      <td>0.878788</td>\n",
       "      <td>0.446154</td>\n",
       "      <td>0.720330</td>\n",
       "    </tr>\n",
       "    <tr>\n",
       "      <th>EditedNearestNeighbours_80 &amp; Logistic Regression</th>\n",
       "      <td>0.375000</td>\n",
       "      <td>0.969231</td>\n",
       "      <td>0.912500</td>\n",
       "    </tr>\n",
       "    <tr>\n",
       "      <th>EditedNearestNeighbours_80 &amp; SVC</th>\n",
       "      <td>0.292308</td>\n",
       "      <td>0.584615</td>\n",
       "      <td>0.729121</td>\n",
       "    </tr>\n",
       "  </tbody>\n",
       "</table>\n",
       "</div>"
      ],
      "text/plain": [
       "                                                  precision    recall  \\\n",
       "Name                                                                    \n",
       "Random UnderSampler & Logistic Regression          0.771084  0.984615   \n",
       "Random UnderSampler & SVC                          0.506849  0.569231   \n",
       "EditedNearestNeighbours_10 & Logistic Regression   0.812500  0.800000   \n",
       "EditedNearestNeighbours_10 & SVC                   0.944444  0.261538   \n",
       "EditedNearestNeighbours_40 & Logistic Regression   0.559633  0.938462   \n",
       "EditedNearestNeighbours_40 & SVC                   0.878788  0.446154   \n",
       "EditedNearestNeighbours_80 & Logistic Regression   0.375000  0.969231   \n",
       "EditedNearestNeighbours_80 & SVC                   0.292308  0.584615   \n",
       "\n",
       "                                                   AUC_ROC  \n",
       "Name                                                        \n",
       "Random UnderSampler & Logistic Regression         0.979258  \n",
       "Random UnderSampler & SVC                         0.759890  \n",
       "EditedNearestNeighbours_10 & Logistic Regression  0.891758  \n",
       "EditedNearestNeighbours_10 & SVC                  0.630082  \n",
       "EditedNearestNeighbours_40 & Logistic Regression  0.936264  \n",
       "EditedNearestNeighbours_40 & SVC                  0.720330  \n",
       "EditedNearestNeighbours_80 & Logistic Regression  0.912500  \n",
       "EditedNearestNeighbours_80 & SVC                  0.729121  "
      ]
     },
     "execution_count": 27,
     "metadata": {},
     "output_type": "execute_result"
    }
   ],
   "source": [
    "samplers = {\n",
    "    'Random UnderSampler': RandomUnderSampler(),\n",
    "    'EditedNearestNeighbours_10':EditedNearestNeighbours(n_neighbors=10),\n",
    "    'EditedNearestNeighbours_40':EditedNearestNeighbours(n_neighbors=40),\n",
    "    'EditedNearestNeighbours_80':EditedNearestNeighbours(n_neighbors=80)\n",
    "}\n",
    "confusionMatrixArr = []\n",
    "name = []\n",
    "result_undersampling = []\n",
    "# Loop qua từng phương pháp over-sampling\n",
    "for sampler_name, sampler in samplers.items():\n",
    "    for model_name, model in models.items():\n",
    "        # Over-sampling dữ liệu huấn luyện\n",
    "        X_resampled, y_resampled = sampler.fit_resample(X_train, y_train)\n",
    "        result,confusionMatrix = trainModel(model,sampler_name +\" & \" + model_name,X_resampled,y_resampled,X_test,y_test)\n",
    "        result_undersampling.append(result)\n",
    "\n",
    "        confusionMatrixArr.append(confusionMatrix)\n",
    "        name.append(sampler_name +\" & \" + model_name)\n",
    "# plot_many_image(confusionMatrixArr,name)\n",
    "measure_test_undersampling = pd.concat(result_undersampling, ignore_index=True)\n",
    "measure_test_undersampling.set_index('Name', inplace=True)\n",
    "measure_test_undersampling"
   ]
  },
  {
   "cell_type": "markdown",
   "id": "1fe7d353-577b-4f8e-904a-050a2ad08c46",
   "metadata": {},
   "source": [
    "### OverSampling"
   ]
  },
  {
   "cell_type": "code",
   "execution_count": 28,
   "id": "dc4442a8-0305-41e1-829e-e19d24ec9e4a",
   "metadata": {},
   "outputs": [
    {
     "data": {
      "image/png": "[encoded data removed]",
      "text/plain": [
       "<Figure size 2000x1000 with 8 Axes>"
      ]
     },
     "metadata": {},
     "output_type": "display_data"
    },
    {
     "data": {
      "text/html": [
       "<div>\n",
       "<style scoped>\n",
       "    .dataframe tbody tr th:only-of-type {\n",
       "        vertical-align: middle;\n",
       "    }\n",
       "\n",
       "    .dataframe tbody tr th {\n",
       "        vertical-align: top;\n",
       "    }\n",
       "\n",
       "    .dataframe thead th {\n",
       "        text-align: right;\n",
       "    }\n",
       "</style>\n",
       "<table border=\"1\" class=\"dataframe\">\n",
       "  <thead>\n",
       "    <tr style=\"text-align: right;\">\n",
       "      <th></th>\n",
       "      <th>precision</th>\n",
       "      <th>recall</th>\n",
       "      <th>AUC_ROC</th>\n",
       "    </tr>\n",
       "    <tr>\n",
       "      <th>Name</th>\n",
       "      <th></th>\n",
       "      <th></th>\n",
       "      <th></th>\n",
       "    </tr>\n",
       "  </thead>\n",
       "  <tbody>\n",
       "    <tr>\n",
       "      <th>Random OverSampler &amp; Logistic Regression</th>\n",
       "      <td>0.787500</td>\n",
       "      <td>0.969231</td>\n",
       "      <td>0.972940</td>\n",
       "    </tr>\n",
       "    <tr>\n",
       "      <th>Random OverSampler &amp; SVC</th>\n",
       "      <td>0.805556</td>\n",
       "      <td>0.892308</td>\n",
       "      <td>0.936538</td>\n",
       "    </tr>\n",
       "    <tr>\n",
       "      <th>SMOTE &amp; Logistic Regression</th>\n",
       "      <td>0.800000</td>\n",
       "      <td>0.923077</td>\n",
       "      <td>0.951236</td>\n",
       "    </tr>\n",
       "    <tr>\n",
       "      <th>SMOTE &amp; SVC</th>\n",
       "      <td>0.805556</td>\n",
       "      <td>0.892308</td>\n",
       "      <td>0.936538</td>\n",
       "    </tr>\n",
       "  </tbody>\n",
       "</table>\n",
       "</div>"
      ],
      "text/plain": [
       "                                          precision    recall   AUC_ROC\n",
       "Name                                                                   \n",
       "Random OverSampler & Logistic Regression   0.787500  0.969231  0.972940\n",
       "Random OverSampler & SVC                   0.805556  0.892308  0.936538\n",
       "SMOTE & Logistic Regression                0.800000  0.923077  0.951236\n",
       "SMOTE & SVC                                0.805556  0.892308  0.936538"
      ]
     },
     "execution_count": 28,
     "metadata": {},
     "output_type": "execute_result"
    }
   ],
   "source": [
    "samplers = {\n",
    "    'Random OverSampler': RandomOverSampler(),\n",
    "    'SMOTE': SMOTE()\n",
    "}\n",
    "confusionMatrixArr = []\n",
    "name = []\n",
    "result_oversampling = []\n",
    "# Loop qua từng phương pháp over-sampling\n",
    "for sampler_name, sampler in samplers.items():\n",
    "    for model_name, model in models.items():\n",
    "        # Over-sampling dữ liệu huấn luyện\n",
    "        X_resampled, y_resampled = sampler.fit_resample(X_train, y_train)\n",
    "        result,confusionMatrix = trainModel(model,sampler_name +\" & \" + model_name,X_resampled,y_resampled,X_test,y_test)\n",
    "        result_oversampling.append(result)\n",
    "\n",
    "        confusionMatrixArr.append(confusionMatrix)\n",
    "        name.append(sampler_name +\" & \" + model_name)\n",
    "\n",
    "\n",
    "plot_many_image(confusionMatrixArr,name)\n",
    "measure_test_Oversampling = pd.concat(result_oversampling, ignore_index=True)\n",
    "measure_test_Oversampling.set_index('Name', inplace=True)\n",
    "measure_test_Oversampling\n"
   ]
  },
  {
   "cell_type": "markdown",
   "id": "2a212222-63b8-4e70-a1ed-f11bebcc703c",
   "metadata": {
    "tags": []
   },
   "source": [
    "## Cost Sensitive Learn"
   ]
  },
  {
   "cell_type": "code",
   "execution_count": 29,
   "id": "44b01505-ca8d-4dcf-a2e4-acebf627d760",
   "metadata": {
    "tags": []
   },
   "outputs": [],
   "source": [
    "class_weights = class_weight.compute_class_weight('balanced', classes=np.unique(y_train), y=y_train)"
   ]
  },
  {
   "cell_type": "code",
   "execution_count": 30,
   "id": "78271397-0cb4-461f-a35c-b53013ede3b3",
   "metadata": {
    "tags": []
   },
   "outputs": [
    {
     "data": {
      "text/plain": [
       "array([0.54446408, 6.12251656])"
      ]
     },
     "execution_count": 30,
     "metadata": {},
     "output_type": "execute_result"
    }
   ],
   "source": [
    "class_weights"
   ]
  },
  {
   "cell_type": "code",
   "execution_count": 31,
   "id": "0f66b934-7f33-4c20-be1d-cb90a0982266",
   "metadata": {
    "tags": []
   },
   "outputs": [
    {
     "data": {
      "image/png": "[encoded data removed]",
      "text/plain": [
       "<Figure size 1500x800 with 4 Axes>"
      ]
     },
     "metadata": {},
     "output_type": "display_data"
    },
    {
     "data": {
      "text/html": [
       "<div>\n",
       "<style scoped>\n",
       "    .dataframe tbody tr th:only-of-type {\n",
       "        vertical-align: middle;\n",
       "    }\n",
       "\n",
       "    .dataframe tbody tr th {\n",
       "        vertical-align: top;\n",
       "    }\n",
       "\n",
       "    .dataframe thead th {\n",
       "        text-align: right;\n",
       "    }\n",
       "</style>\n",
       "<table border=\"1\" class=\"dataframe\">\n",
       "  <thead>\n",
       "    <tr style=\"text-align: right;\">\n",
       "      <th></th>\n",
       "      <th>precision</th>\n",
       "      <th>recall</th>\n",
       "      <th>AUC_ROC</th>\n",
       "    </tr>\n",
       "    <tr>\n",
       "      <th>Name</th>\n",
       "      <th></th>\n",
       "      <th></th>\n",
       "      <th></th>\n",
       "    </tr>\n",
       "  </thead>\n",
       "  <tbody>\n",
       "    <tr>\n",
       "      <th>CSL &amp; Logistic Regression</th>\n",
       "      <td>0.790123</td>\n",
       "      <td>0.984615</td>\n",
       "      <td>0.980632</td>\n",
       "    </tr>\n",
       "    <tr>\n",
       "      <th>CSL &amp; SVC</th>\n",
       "      <td>0.769231</td>\n",
       "      <td>0.769231</td>\n",
       "      <td>0.874313</td>\n",
       "    </tr>\n",
       "  </tbody>\n",
       "</table>\n",
       "</div>"
      ],
      "text/plain": [
       "                           precision    recall   AUC_ROC\n",
       "Name                                                    \n",
       "CSL & Logistic Regression   0.790123  0.984615  0.980632\n",
       "CSL & SVC                   0.769231  0.769231  0.874313"
      ]
     },
     "execution_count": 31,
     "metadata": {},
     "output_type": "execute_result"
    }
   ],
   "source": [
    "models_csl = {\n",
    "    'CSL & Logistic Regression': LogisticRegression(class_weight={0: class_weights[0], 1: class_weights[1]}),\n",
    "    'CSL & SVC': SVC(class_weight={0: class_weights[0], 1: class_weights[1]})\n",
    "}\n",
    "\n",
    "confusionMatrixArr = []\n",
    "name = []\n",
    "\n",
    "result_csl = []\n",
    "for model_name, model in models_csl.items():\n",
    "    result,confusionMatrix = trainModel(model,model_name,X_train,y_train,X_test,y_test)\n",
    "    result_csl.append(result)\n",
    "    confusionMatrixArr.append(confusionMatrix)\n",
    "    name.append(model_name)\n",
    "\n",
    "\n",
    "plot_many_image(confusionMatrixArr,name)\n",
    "    \n",
    "measure_test_csl = pd.concat(result_csl, ignore_index=True)\n",
    "measure_test_csl.set_index('Name', inplace=True)\n",
    "measure_test_csl"
   ]
  },
  {
   "cell_type": "markdown",
   "id": "707e8075-990a-4804-977b-ba4e53f90b17",
   "metadata": {},
   "source": [
    "## Ensemble learning"
   ]
  },
  {
   "cell_type": "code",
   "execution_count": null,
   "id": "3e372f19-3b71-4ef4-b3e9-5651bc6465b5",
   "metadata": {},
   "outputs": [],
   "source": []
  },
  {
   "cell_type": "code",
   "execution_count": 32,
   "id": "bad57e16-c286-4042-b2fb-5692dbfc851d",
   "metadata": {
    "tags": []
   },
   "outputs": [
    {
     "data": {
      "image/png": "[encoded data removed]",
      "text/plain": [
       "<Figure size 1500x800 with 4 Axes>"
      ]
     },
     "metadata": {},
     "output_type": "display_data"
    },
    {
     "data": {
      "text/html": [
       "<div>\n",
       "<style scoped>\n",
       "    .dataframe tbody tr th:only-of-type {\n",
       "        vertical-align: middle;\n",
       "    }\n",
       "\n",
       "    .dataframe tbody tr th {\n",
       "        vertical-align: top;\n",
       "    }\n",
       "\n",
       "    .dataframe thead th {\n",
       "        text-align: right;\n",
       "    }\n",
       "</style>\n",
       "<table border=\"1\" class=\"dataframe\">\n",
       "  <thead>\n",
       "    <tr style=\"text-align: right;\">\n",
       "      <th></th>\n",
       "      <th>precision</th>\n",
       "      <th>recall</th>\n",
       "      <th>AUC_ROC</th>\n",
       "    </tr>\n",
       "    <tr>\n",
       "      <th>Name</th>\n",
       "      <th></th>\n",
       "      <th></th>\n",
       "      <th></th>\n",
       "    </tr>\n",
       "  </thead>\n",
       "  <tbody>\n",
       "    <tr>\n",
       "      <th>Ensemble Logistic Regression</th>\n",
       "      <td>0.807692</td>\n",
       "      <td>0.969231</td>\n",
       "      <td>0.974313</td>\n",
       "    </tr>\n",
       "    <tr>\n",
       "      <th>Ensemble SVC</th>\n",
       "      <td>0.811594</td>\n",
       "      <td>0.861538</td>\n",
       "      <td>0.921841</td>\n",
       "    </tr>\n",
       "  </tbody>\n",
       "</table>\n",
       "</div>"
      ],
      "text/plain": [
       "                              precision    recall   AUC_ROC\n",
       "Name                                                       \n",
       "Ensemble Logistic Regression   0.807692  0.969231  0.974313\n",
       "Ensemble SVC                   0.811594  0.861538  0.921841"
      ]
     },
     "execution_count": 32,
     "metadata": {},
     "output_type": "execute_result"
    }
   ],
   "source": [
    "result_ensemble = []\n",
    "confusionMatrixArr = []\n",
    "name = []\n",
    "for model_name, model in models.items():\n",
    "    classifier = imblearn.ensemble.BalancedBaggingClassifier(estimator=model,\n",
    "                                                         n_estimators=5,\n",
    "                                                         sampling_strategy=1,\n",
    "                                                         bootstrap=True,\n",
    "                                                         sampler=imblearn.over_sampling.SMOTE(),\n",
    "                                                         random_state=0)\n",
    "    result,confusionMatrix = trainModel(classifier,\"Ensemble \"+model_name,X_train,y_train,X_test,y_test)\n",
    "    result_ensemble.append(result)\n",
    "    confusionMatrixArr.append(confusionMatrix)\n",
    "    name.append(\"Ensemble & \"+model_name)\n",
    "\n",
    "\n",
    "plot_many_image(confusionMatrixArr,name)    \n",
    "measure_test_ensemble = pd.concat(result_ensemble, ignore_index=True)\n",
    "measure_test_ensemble.set_index('Name', inplace=True)\n",
    "measure_test_ensemble"
   ]
  },
  {
   "cell_type": "markdown",
   "id": "53372643-520e-4660-8f66-ad3ee2b9185e",
   "metadata": {},
   "source": [
    "##  Clustering-Based Prototype Generation"
   ]
  },
  {
   "cell_type": "code",
   "execution_count": 33,
   "id": "9ec795ae-29ff-4d89-8df8-8f11060a9538",
   "metadata": {
    "tags": []
   },
   "outputs": [],
   "source": [
    "from sklearn.cluster import KMeans\n",
    "from sklearn.metrics import pairwise_distances_argmin_min\n",
    "from sklearn.utils import resample\n",
    "import random\n",
    "\n",
    "\n",
    "def generate_synthetic_samples(X_train, y_train, minority_class_label, balance_level, num_clusters=5):\n",
    "    X_minority = X_train[y_train == minority_class_label]\n",
    "     \n",
    "    num_minority_samples = X_minority.shape[0]\n",
    "    num_majority_samples = X_train.shape[0] - num_minority_samples\n",
    "\n",
    "    kmeans = KMeans(n_clusters=num_clusters)\n",
    "    kmeans.fit(X_minority)\n",
    "    cluster_centers = kmeans.cluster_centers_\n",
    "    cluster_labels = kmeans.predict(X_minority) \n",
    "    \n",
    "    distances = pairwise_distances_argmin_min(X_minority, cluster_centers)[1]\n",
    "    normalized_distances = distances / np.sum(distances)\n",
    "    \n",
    "    num_new_samples = np.round(normalized_distances * (num_majority_samples - num_minority_samples) * balance_level).astype(int)\n",
    "    synthetic_samples = []\n",
    "    counter = 0\n",
    "\n",
    "    for index, row in X_minority.iterrows():\n",
    "        for i in range(num_new_samples[counter]):\n",
    "            data = pd.to_numeric(row, errors='coerce')\n",
    "            d = np.abs(data - cluster_centers[cluster_labels[counter]])\n",
    "            random_number = random.uniform(0, 1)\n",
    "            new_sample = data + d * random_number\n",
    "            synthetic_samples.append(new_sample.to_frame().T)\n",
    "\n",
    "        counter+=1\n",
    "    \n",
    "    \n",
    "    X_synthetic =pd.concat(synthetic_samples, ignore_index=True)\n",
    "    y_synthetic = np.concatenate((y_train, np.full(X_synthetic.shape[0], minority_class_label)))\n",
    "\n",
    "    X_synthetic = pd.concat([X_train, X_synthetic], axis=0)\n",
    "    return X_synthetic, y_synthetic\n",
    "\n",
    "# Sử dụng hàm\n",
    "X_synthetic,y_synthetic = generate_synthetic_samples(X_train, y_train, minority_class_label=1, balance_level=1)\n"
   ]
  },
  {
   "cell_type": "code",
   "execution_count": 34,
   "id": "857c5a2e-0861-40e0-afe1-78b79713d640",
   "metadata": {
    "tags": []
   },
   "outputs": [
    {
     "data": {
      "image/png": "[encoded data removed]",
      "text/plain": [
       "<Figure size 1500x800 with 4 Axes>"
      ]
     },
     "metadata": {},
     "output_type": "display_data"
    },
    {
     "data": {
      "text/html": [
       "<div>\n",
       "<style scoped>\n",
       "    .dataframe tbody tr th:only-of-type {\n",
       "        vertical-align: middle;\n",
       "    }\n",
       "\n",
       "    .dataframe tbody tr th {\n",
       "        vertical-align: top;\n",
       "    }\n",
       "\n",
       "    .dataframe thead th {\n",
       "        text-align: right;\n",
       "    }\n",
       "</style>\n",
       "<table border=\"1\" class=\"dataframe\">\n",
       "  <thead>\n",
       "    <tr style=\"text-align: right;\">\n",
       "      <th></th>\n",
       "      <th>precision</th>\n",
       "      <th>recall</th>\n",
       "      <th>AUC_ROC</th>\n",
       "    </tr>\n",
       "    <tr>\n",
       "      <th>Name</th>\n",
       "      <th></th>\n",
       "      <th></th>\n",
       "      <th></th>\n",
       "    </tr>\n",
       "  </thead>\n",
       "  <tbody>\n",
       "    <tr>\n",
       "      <th>Cluster &amp; Logistic Regression</th>\n",
       "      <td>0.867647</td>\n",
       "      <td>0.907692</td>\n",
       "      <td>0.947665</td>\n",
       "    </tr>\n",
       "    <tr>\n",
       "      <th>Cluster &amp; SVC</th>\n",
       "      <td>0.838235</td>\n",
       "      <td>0.876923</td>\n",
       "      <td>0.930907</td>\n",
       "    </tr>\n",
       "  </tbody>\n",
       "</table>\n",
       "</div>"
      ],
      "text/plain": [
       "                               precision    recall   AUC_ROC\n",
       "Name                                                        \n",
       "Cluster & Logistic Regression   0.867647  0.907692  0.947665\n",
       "Cluster & SVC                   0.838235  0.876923  0.930907"
      ]
     },
     "execution_count": 34,
     "metadata": {},
     "output_type": "execute_result"
    }
   ],
   "source": [
    "result_Cluster = []\n",
    "confusionMatrixArr = []\n",
    "name = []\n",
    "for model_name, model in models.items():\n",
    "    result,confusionMatrix = trainModel(model,\"Cluster & \"+model_name,X_synthetic,y_synthetic,X_test,y_test)\n",
    "    result_Cluster.append(result)\n",
    "    confusionMatrixArr.append(confusionMatrix)\n",
    "    name.append(\"Cluster & \"+model_name)\n",
    "\n",
    "\n",
    "plot_many_image(confusionMatrixArr,name)     \n",
    "\n",
    "measure_test_Cluster = pd.concat(result_Cluster, ignore_index=True)\n",
    "measure_test_Cluster.set_index('Name', inplace=True)\n",
    "measure_test_Cluster"
   ]
  },
  {
   "cell_type": "markdown",
   "id": "1f429d80-f22a-4e26-b4ba-7d3993a16fc3",
   "metadata": {},
   "source": [
    "# Evaluation"
   ]
  },
  {
   "cell_type": "code",
   "execution_count": 35,
   "id": "f710a964-d6ac-4a82-948d-58e75c7d8730",
   "metadata": {
    "tags": []
   },
   "outputs": [
    {
     "data": {
      "text/html": [
       "<div>\n",
       "<style scoped>\n",
       "    .dataframe tbody tr th:only-of-type {\n",
       "        vertical-align: middle;\n",
       "    }\n",
       "\n",
       "    .dataframe tbody tr th {\n",
       "        vertical-align: top;\n",
       "    }\n",
       "\n",
       "    .dataframe thead th {\n",
       "        text-align: right;\n",
       "    }\n",
       "</style>\n",
       "<table border=\"1\" class=\"dataframe\">\n",
       "  <thead>\n",
       "    <tr style=\"text-align: right;\">\n",
       "      <th></th>\n",
       "      <th>precision</th>\n",
       "      <th>recall</th>\n",
       "      <th>AUC_ROC</th>\n",
       "    </tr>\n",
       "    <tr>\n",
       "      <th>Name</th>\n",
       "      <th></th>\n",
       "      <th></th>\n",
       "      <th></th>\n",
       "    </tr>\n",
       "  </thead>\n",
       "  <tbody>\n",
       "    <tr>\n",
       "      <th>Logistic Regression imbalanced</th>\n",
       "      <td>0.960000</td>\n",
       "      <td>0.369231</td>\n",
       "      <td>0.683929</td>\n",
       "    </tr>\n",
       "    <tr>\n",
       "      <th>Random UnderSampler &amp; Logistic Regression</th>\n",
       "      <td>0.771084</td>\n",
       "      <td>0.984615</td>\n",
       "      <td>0.979258</td>\n",
       "    </tr>\n",
       "    <tr>\n",
       "      <th>EditedNearestNeighbours_10 &amp; Logistic Regression</th>\n",
       "      <td>0.812500</td>\n",
       "      <td>0.800000</td>\n",
       "      <td>0.891758</td>\n",
       "    </tr>\n",
       "    <tr>\n",
       "      <th>EditedNearestNeighbours_40 &amp; Logistic Regression</th>\n",
       "      <td>0.559633</td>\n",
       "      <td>0.938462</td>\n",
       "      <td>0.936264</td>\n",
       "    </tr>\n",
       "    <tr>\n",
       "      <th>EditedNearestNeighbours_80 &amp; Logistic Regression</th>\n",
       "      <td>0.375000</td>\n",
       "      <td>0.969231</td>\n",
       "      <td>0.912500</td>\n",
       "    </tr>\n",
       "    <tr>\n",
       "      <th>Random OverSampler &amp; Logistic Regression</th>\n",
       "      <td>0.787500</td>\n",
       "      <td>0.969231</td>\n",
       "      <td>0.972940</td>\n",
       "    </tr>\n",
       "    <tr>\n",
       "      <th>SMOTE &amp; Logistic Regression</th>\n",
       "      <td>0.800000</td>\n",
       "      <td>0.923077</td>\n",
       "      <td>0.951236</td>\n",
       "    </tr>\n",
       "    <tr>\n",
       "      <th>CSL &amp; Logistic Regression</th>\n",
       "      <td>0.790123</td>\n",
       "      <td>0.984615</td>\n",
       "      <td>0.980632</td>\n",
       "    </tr>\n",
       "    <tr>\n",
       "      <th>Ensemble Logistic Regression</th>\n",
       "      <td>0.807692</td>\n",
       "      <td>0.969231</td>\n",
       "      <td>0.974313</td>\n",
       "    </tr>\n",
       "    <tr>\n",
       "      <th>Cluster &amp; Logistic Regression</th>\n",
       "      <td>0.867647</td>\n",
       "      <td>0.907692</td>\n",
       "      <td>0.947665</td>\n",
       "    </tr>\n",
       "  </tbody>\n",
       "</table>\n",
       "</div>"
      ],
      "text/plain": [
       "                                                  precision    recall  \\\n",
       "Name                                                                    \n",
       "Logistic Regression imbalanced                     0.960000  0.369231   \n",
       "Random UnderSampler & Logistic Regression          0.771084  0.984615   \n",
       "EditedNearestNeighbours_10 & Logistic Regression   0.812500  0.800000   \n",
       "EditedNearestNeighbours_40 & Logistic Regression   0.559633  0.938462   \n",
       "EditedNearestNeighbours_80 & Logistic Regression   0.375000  0.969231   \n",
       "Random OverSampler & Logistic Regression           0.787500  0.969231   \n",
       "SMOTE & Logistic Regression                        0.800000  0.923077   \n",
       "CSL & Logistic Regression                          0.790123  0.984615   \n",
       "Ensemble Logistic Regression                       0.807692  0.969231   \n",
       "Cluster & Logistic Regression                      0.867647  0.907692   \n",
       "\n",
       "                                                   AUC_ROC  \n",
       "Name                                                        \n",
       "Logistic Regression imbalanced                    0.683929  \n",
       "Random UnderSampler & Logistic Regression         0.979258  \n",
       "EditedNearestNeighbours_10 & Logistic Regression  0.891758  \n",
       "EditedNearestNeighbours_40 & Logistic Regression  0.936264  \n",
       "EditedNearestNeighbours_80 & Logistic Regression  0.912500  \n",
       "Random OverSampler & Logistic Regression          0.972940  \n",
       "SMOTE & Logistic Regression                       0.951236  \n",
       "CSL & Logistic Regression                         0.980632  \n",
       "Ensemble Logistic Regression                      0.974313  \n",
       "Cluster & Logistic Regression                     0.947665  "
      ]
     },
     "execution_count": 35,
     "metadata": {},
     "output_type": "execute_result"
    }
   ],
   "source": [
    "measure_full_lg = pd.concat(result_lg, ignore_index=True)\n",
    "measure_full_lg.set_index('Name', inplace=True)\n",
    "measure_full_lg"
   ]
  },
  {
   "cell_type": "code",
   "execution_count": 36,
   "id": "a8e84d02-d209-4a16-8178-2f3882e974a2",
   "metadata": {
    "tags": []
   },
   "outputs": [
    {
     "data": {
      "text/html": [
       "<div>\n",
       "<style scoped>\n",
       "    .dataframe tbody tr th:only-of-type {\n",
       "        vertical-align: middle;\n",
       "    }\n",
       "\n",
       "    .dataframe tbody tr th {\n",
       "        vertical-align: top;\n",
       "    }\n",
       "\n",
       "    .dataframe thead th {\n",
       "        text-align: right;\n",
       "    }\n",
       "</style>\n",
       "<table border=\"1\" class=\"dataframe\">\n",
       "  <thead>\n",
       "    <tr style=\"text-align: right;\">\n",
       "      <th></th>\n",
       "      <th>precision</th>\n",
       "      <th>recall</th>\n",
       "      <th>AUC_ROC</th>\n",
       "    </tr>\n",
       "    <tr>\n",
       "      <th>Name</th>\n",
       "      <th></th>\n",
       "      <th></th>\n",
       "      <th></th>\n",
       "    </tr>\n",
       "  </thead>\n",
       "  <tbody>\n",
       "    <tr>\n",
       "      <th>SVC imbalanced</th>\n",
       "      <td>0.933333</td>\n",
       "      <td>0.215385</td>\n",
       "      <td>0.607005</td>\n",
       "    </tr>\n",
       "    <tr>\n",
       "      <th>Random UnderSampler &amp; SVC</th>\n",
       "      <td>0.506849</td>\n",
       "      <td>0.569231</td>\n",
       "      <td>0.759890</td>\n",
       "    </tr>\n",
       "    <tr>\n",
       "      <th>EditedNearestNeighbours_10 &amp; SVC</th>\n",
       "      <td>0.944444</td>\n",
       "      <td>0.261538</td>\n",
       "      <td>0.630082</td>\n",
       "    </tr>\n",
       "    <tr>\n",
       "      <th>EditedNearestNeighbours_40 &amp; SVC</th>\n",
       "      <td>0.878788</td>\n",
       "      <td>0.446154</td>\n",
       "      <td>0.720330</td>\n",
       "    </tr>\n",
       "    <tr>\n",
       "      <th>EditedNearestNeighbours_80 &amp; SVC</th>\n",
       "      <td>0.292308</td>\n",
       "      <td>0.584615</td>\n",
       "      <td>0.729121</td>\n",
       "    </tr>\n",
       "    <tr>\n",
       "      <th>Random OverSampler &amp; SVC</th>\n",
       "      <td>0.805556</td>\n",
       "      <td>0.892308</td>\n",
       "      <td>0.936538</td>\n",
       "    </tr>\n",
       "    <tr>\n",
       "      <th>SMOTE &amp; SVC</th>\n",
       "      <td>0.805556</td>\n",
       "      <td>0.892308</td>\n",
       "      <td>0.936538</td>\n",
       "    </tr>\n",
       "    <tr>\n",
       "      <th>CSL &amp; SVC</th>\n",
       "      <td>0.769231</td>\n",
       "      <td>0.769231</td>\n",
       "      <td>0.874313</td>\n",
       "    </tr>\n",
       "    <tr>\n",
       "      <th>Ensemble SVC</th>\n",
       "      <td>0.811594</td>\n",
       "      <td>0.861538</td>\n",
       "      <td>0.921841</td>\n",
       "    </tr>\n",
       "    <tr>\n",
       "      <th>Cluster &amp; SVC</th>\n",
       "      <td>0.838235</td>\n",
       "      <td>0.876923</td>\n",
       "      <td>0.930907</td>\n",
       "    </tr>\n",
       "  </tbody>\n",
       "</table>\n",
       "</div>"
      ],
      "text/plain": [
       "                                  precision    recall   AUC_ROC\n",
       "Name                                                           \n",
       "SVC imbalanced                     0.933333  0.215385  0.607005\n",
       "Random UnderSampler & SVC          0.506849  0.569231  0.759890\n",
       "EditedNearestNeighbours_10 & SVC   0.944444  0.261538  0.630082\n",
       "EditedNearestNeighbours_40 & SVC   0.878788  0.446154  0.720330\n",
       "EditedNearestNeighbours_80 & SVC   0.292308  0.584615  0.729121\n",
       "Random OverSampler & SVC           0.805556  0.892308  0.936538\n",
       "SMOTE & SVC                        0.805556  0.892308  0.936538\n",
       "CSL & SVC                          0.769231  0.769231  0.874313\n",
       "Ensemble SVC                       0.811594  0.861538  0.921841\n",
       "Cluster & SVC                      0.838235  0.876923  0.930907"
      ]
     },
     "execution_count": 36,
     "metadata": {},
     "output_type": "execute_result"
    }
   ],
   "source": [
    "measure_full_svm = pd.concat(result_svm, ignore_index=True)\n",
    "measure_full_svm.set_index('Name', inplace=True)\n",
    "measure_full_svm"
   ]
  },
  {
   "cell_type": "code",
   "execution_count": null,
   "id": "a430286f-4631-43ca-8a06-b8f915d53663",
   "metadata": {},
   "outputs": [],
   "source": []
  }
 ],
 "metadata": {
  "kernelspec": {
   "display_name": "Python 3 (ipykernel)",
   "language": "python",
   "name": "python3"
  },
  "language_info": {
   "codemirror_mode": {
    "name": "ipython",
    "version": 3
   },
   "file_extension": ".py",
   "mimetype": "text/x-python",
   "name": "python",
   "nbconvert_exporter": "python",
   "pygments_lexer": "ipython3",
   "version": "3.11.5"
  }
 },
 "nbformat": 4,
 "nbformat_minor": 5
}
